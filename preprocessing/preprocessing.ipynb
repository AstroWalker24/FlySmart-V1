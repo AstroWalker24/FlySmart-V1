{
 "cells": [
  {
   "cell_type": "code",
   "execution_count": 1,
   "metadata": {},
   "outputs": [],
   "source": [
    "# preprocessing of csv data is done here"
   ]
  },
  {
   "cell_type": "code",
   "execution_count": 2,
   "metadata": {},
   "outputs": [],
   "source": [
    "import numpy as np\n",
    "import pandas as pd"
   ]
  },
  {
   "cell_type": "code",
   "execution_count": 9,
   "metadata": {},
   "outputs": [
    {
     "name": "stdout",
     "output_type": "stream",
     "text": [
      "                                          Name          City  \\\n",
      "0                               Goroka Airport        Goroka   \n",
      "1                               Madang Airport        Madang   \n",
      "2                 Mount Hagen Kagamuga Airport   Mount Hagen   \n",
      "3                               Nadzab Airport        Nadzab   \n",
      "4  Port Moresby Jacksons International Airport  Port Moresby   \n",
      "\n",
      "            Country IATA  ICAO  Latitude   Longitude  Altitude Timezone DST  \\\n",
      "0  Papua New Guinea  GKA  AYGA -6.081690  145.391998      5282       10   U   \n",
      "1  Papua New Guinea  MAG  AYMD -5.207080  145.789002        20       10   U   \n",
      "2  Papua New Guinea  HGU  AYMH -5.826790  144.296005      5388       10   U   \n",
      "3  Papua New Guinea  LAE  AYNZ -6.569803  146.725977       239       10   U   \n",
      "4  Papua New Guinea  POM  AYPY -9.443380  147.220001       146       10   U   \n",
      "\n",
      "             Timezone.1  \n",
      "0  Pacific/Port_Moresby  \n",
      "1  Pacific/Port_Moresby  \n",
      "2  Pacific/Port_Moresby  \n",
      "3  Pacific/Port_Moresby  \n",
      "4  Pacific/Port_Moresby  \n",
      "                                          Name          City  \\\n",
      "0                               Goroka Airport        Goroka   \n",
      "1                               Madang Airport        Madang   \n",
      "2                 Mount Hagen Kagamuga Airport   Mount Hagen   \n",
      "3                               Nadzab Airport        Nadzab   \n",
      "4  Port Moresby Jacksons International Airport  Port Moresby   \n",
      "\n",
      "            Country IATA  \n",
      "0  Papua New Guinea  GKA  \n",
      "1  Papua New Guinea  MAG  \n",
      "2  Papua New Guinea  HGU  \n",
      "3  Papua New Guinea  LAE  \n",
      "4  Papua New Guinea  POM  \n"
     ]
    }
   ],
   "source": [
    "# load the csv file into a pandas dataframe \n",
    "df_airports=pd.read_csv('Airports_Data.csv')\n",
    "print(df_airports.head())\n",
    "\n",
    "\n",
    "# drop the columns that are not needed \n",
    "df_airports.drop(df_airports.iloc[:,5:12],axis=1,inplace=True)\n",
    "df_airports.drop('ICAO',axis=1,inplace=True)\n",
    "\n",
    "\n",
    "print(df_airports.head())"
   ]
  },
  {
   "cell_type": "code",
   "execution_count": 14,
   "metadata": {},
   "outputs": [],
   "source": [
    "# remove rows whose IATA codes are missing \\N\n",
    "df_airports = df_airports[df_airports['IATA'] != '\\\\N']\n",
    "\n",
    "# convert this again into a csv file \n",
    "df_airports.to_csv('Airports_Data_Cleaned.csv',index=False)\n"
   ]
  },
  {
   "cell_type": "code",
   "execution_count": 26,
   "metadata": {},
   "outputs": [],
   "source": [
    "# loading the Airlines data \n",
    "df_airlines=pd.read_csv('Airlines_Data.csv')\n",
    "# print(df_airlines.head())\n",
    "\n",
    "# drop the columns that are not needed \n",
    "df_airlines.drop('ICAO',axis=1,inplace=True)\n",
    "# print(df_airlines.head())\n",
    "\n",
    "# drop the callsign \n",
    "df_airlines.drop('Callsign',axis=1,inplace=True)\n",
    "# print(df_airlines.head())\n",
    "\n",
    "# check the Active column and if it is Y then keep it else remove it \n",
    "df_airlines=df_airlines.loc[df_airlines['Active']=='Y']\n",
    "# print(df_airlines.head())\n",
    "\n",
    "# drop the active column\n",
    "df_airlines.drop('Active',axis=1,inplace=True)\n",
    "\n",
    "# print(df_airlines.head())\n",
    "\n",
    "# if the IATA code is - or NaN then remove that row \n",
    "df_airlines=df_airlines[df_airlines['IATA']!='-']\n",
    "\n",
    "df_airlines = df_airlines[df_airlines['IATA']!='NaN']\n",
    "\n",
    "# convert this again into a csv file\n",
    "df_airlines.to_csv('Airlines_Data_Cleaned.csv',index=False)"
   ]
  },
  {
   "cell_type": "code",
   "execution_count": null,
   "metadata": {},
   "outputs": [],
   "source": []
  }
 ],
 "metadata": {
  "kernelspec": {
   "display_name": "Python 3",
   "language": "python",
   "name": "python3"
  },
  "language_info": {
   "codemirror_mode": {
    "name": "ipython",
    "version": 3
   },
   "file_extension": ".py",
   "mimetype": "text/x-python",
   "name": "python",
   "nbconvert_exporter": "python",
   "pygments_lexer": "ipython3",
   "version": "3.11.4"
  }
 },
 "nbformat": 4,
 "nbformat_minor": 2
}
