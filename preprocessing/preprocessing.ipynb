{
 "cells": [
  {
   "cell_type": "code",
   "execution_count": 1,
   "metadata": {},
   "outputs": [],
   "source": [
    "# preprocessing of csv data is done here"
   ]
  },
  {
   "cell_type": "code",
   "execution_count": 2,
   "metadata": {},
   "outputs": [],
   "source": [
    "import numpy as np\n",
    "import pandas as pd"
   ]
  },
  {
   "cell_type": "code",
   "execution_count": 3,
   "metadata": {},
   "outputs": [
    {
     "name": "stdout",
     "output_type": "stream",
     "text": [
      "                                          Name          City  \\\n",
      "0                               Goroka Airport        Goroka   \n",
      "1                               Madang Airport        Madang   \n",
      "2                 Mount Hagen Kagamuga Airport   Mount Hagen   \n",
      "3                               Nadzab Airport        Nadzab   \n",
      "4  Port Moresby Jacksons International Airport  Port Moresby   \n",
      "\n",
      "            Country IATA  ICAO  Latitude   Longitude  Altitude Timezone DST  \\\n",
      "0  Papua New Guinea  GKA  AYGA -6.081690  145.391998      5282       10   U   \n",
      "1  Papua New Guinea  MAG  AYMD -5.207080  145.789002        20       10   U   \n",
      "2  Papua New Guinea  HGU  AYMH -5.826790  144.296005      5388       10   U   \n",
      "3  Papua New Guinea  LAE  AYNZ -6.569803  146.725977       239       10   U   \n",
      "4  Papua New Guinea  POM  AYPY -9.443380  147.220001       146       10   U   \n",
      "\n",
      "             Timezone.1  \n",
      "0  Pacific/Port_Moresby  \n",
      "1  Pacific/Port_Moresby  \n",
      "2  Pacific/Port_Moresby  \n",
      "3  Pacific/Port_Moresby  \n",
      "4  Pacific/Port_Moresby  \n",
      "                                          Name          City  \\\n",
      "0                               Goroka Airport        Goroka   \n",
      "1                               Madang Airport        Madang   \n",
      "2                 Mount Hagen Kagamuga Airport   Mount Hagen   \n",
      "3                               Nadzab Airport        Nadzab   \n",
      "4  Port Moresby Jacksons International Airport  Port Moresby   \n",
      "\n",
      "            Country IATA  \n",
      "0  Papua New Guinea  GKA  \n",
      "1  Papua New Guinea  MAG  \n",
      "2  Papua New Guinea  HGU  \n",
      "3  Papua New Guinea  LAE  \n",
      "4  Papua New Guinea  POM  \n"
     ]
    }
   ],
   "source": [
    "# load the csv file into a pandas dataframe \n",
    "df_airports=pd.read_csv('Airports_Data.csv')\n",
    "print(df_airports.head())\n",
    "\n",
    "\n",
    "# drop the columns that are not needed \n",
    "df_airports.drop(df_airports.iloc[:,5:12],axis=1,inplace=True)\n",
    "df_airports.drop('ICAO',axis=1,inplace=True)\n",
    "\n",
    "\n",
    "print(df_airports.head())"
   ]
  },
  {
   "cell_type": "code",
   "execution_count": 4,
   "metadata": {},
   "outputs": [],
   "source": [
    "# remove rows whose IATA codes are missing \\N\n",
    "df_airports = df_airports[df_airports['IATA'] != '\\\\N']\n",
    "\n",
    "# convert this again into a csv file \n",
    "df_airports.to_csv('Airports_Data_Cleaned.csv',index=False)\n"
   ]
  },
  {
   "cell_type": "code",
   "execution_count": 66,
   "metadata": {},
   "outputs": [],
   "source": [
    "# loading the Airlines data \n",
    "df_airlines=pd.read_csv('Airlines_Data.csv')\n",
    "# print(df_airlines.head())\n",
    "\n",
    "# drop the columns that are not needed \n",
    "df_airlines.drop('ICAO',axis=1,inplace=True)\n",
    "# print(df_airlines.head())\n",
    "\n",
    "# drop the callsign \n",
    "df_airlines.drop('Callsign',axis=1,inplace=True)\n",
    "# print(df_airlines.head())\n",
    "\n",
    "# check the Active column and if it is Y then keep it else remove it \n",
    "df_airlines=df_airlines.loc[df_airlines['Active']=='Y']\n",
    "# print(df_airlines.head())\n",
    "\n",
    "# drop the active column\n",
    "df_airlines.drop('Active',axis=1,inplace=True)\n",
    "\n",
    "# print(df_airlines.head())\n",
    "\n",
    "# if the IATA code is - or NaN then remove that row \n",
    "df_airlines=df_airlines[df_airlines['IATA']!='-']\n",
    "\n",
    "df_airlines = df_airlines[df_airlines['IATA']!='NaN']\n",
    "\n",
    "# convert this again into a csv file\n",
    "df_airlines.to_csv('Airlines_Data_Cleaned.csv',index=False)"
   ]
  },
  {
   "cell_type": "code",
   "execution_count": 25,
   "metadata": {},
   "outputs": [
    {
     "name": "stderr",
     "output_type": "stream",
     "text": [
      "C:\\Users\\shaik\\AppData\\Local\\Temp\\ipykernel_12884\\3785559149.py:2: DtypeWarning: Columns (7,8) have mixed types. Specify dtype option on import or set low_memory=False.\n",
      "  df_flights=pd.read_csv('flights.csv')\n"
     ]
    }
   ],
   "source": [
    "# loading the flights data\n",
    "df_flights=pd.read_csv('flights.csv')\n"
   ]
  },
  {
   "cell_type": "code",
   "execution_count": 26,
   "metadata": {},
   "outputs": [],
   "source": [
    "# dropping year column \n",
    "df_flights.drop('YEAR',axis=1,inplace=True)\n"
   ]
  },
  {
   "cell_type": "code",
   "execution_count": 27,
   "metadata": {},
   "outputs": [],
   "source": [
    "# dropping the tailnumber column \n",
    "df_flights.drop('TAIL_NUMBER',axis=1,inplace=True)"
   ]
  },
  {
   "cell_type": "code",
   "execution_count": 28,
   "metadata": {},
   "outputs": [
    {
     "name": "stdout",
     "output_type": "stream",
     "text": [
      "   MONTH  DAY  DAY_OF_WEEK AIRLINE  FLIGHT_NUMBER ORIGIN_AIRPORT  \\\n",
      "0      1    1            4      AS             98            ANC   \n",
      "1      1    1            4      AA           2336            LAX   \n",
      "2      1    1            4      US            840            SFO   \n",
      "3      1    1            4      AA            258            LAX   \n",
      "4      1    1            4      AS            135            SEA   \n",
      "\n",
      "  DESTINATION_AIRPORT  SCHEDULED_DEPARTURE  DEPARTURE_TIME  DEPARTURE_DELAY  \\\n",
      "0                 SEA                    5          2354.0            -11.0   \n",
      "1                 PBI                   10             2.0             -8.0   \n",
      "2                 CLT                   20            18.0             -2.0   \n",
      "3                 MIA                   20            15.0             -5.0   \n",
      "4                 ANC                   25            24.0             -1.0   \n",
      "\n",
      "   ...  ARRIVAL_TIME  ARRIVAL_DELAY  DIVERTED  CANCELLED  CANCELLATION_REASON  \\\n",
      "0  ...         408.0          -22.0         0          0                  NaN   \n",
      "1  ...         741.0           -9.0         0          0                  NaN   \n",
      "2  ...         811.0            5.0         0          0                  NaN   \n",
      "3  ...         756.0           -9.0         0          0                  NaN   \n",
      "4  ...         259.0          -21.0         0          0                  NaN   \n",
      "\n",
      "   AIR_SYSTEM_DELAY  SECURITY_DELAY  AIRLINE_DELAY  LATE_AIRCRAFT_DELAY  \\\n",
      "0               NaN             NaN            NaN                  NaN   \n",
      "1               NaN             NaN            NaN                  NaN   \n",
      "2               NaN             NaN            NaN                  NaN   \n",
      "3               NaN             NaN            NaN                  NaN   \n",
      "4               NaN             NaN            NaN                  NaN   \n",
      "\n",
      "   WEATHER_DELAY  \n",
      "0            NaN  \n",
      "1            NaN  \n",
      "2            NaN  \n",
      "3            NaN  \n",
      "4            NaN  \n",
      "\n",
      "[5 rows x 29 columns]\n"
     ]
    }
   ],
   "source": [
    "print(df_flights.head())\n",
    "\n",
    "# dropping the month and day and day of the week \n",
    "df_flights.drop('MONTH',axis=1,inplace=True)\n",
    "df_flights.drop('DAY',axis=1,inplace=True)\n",
    "df_flights.drop('DAY_OF_WEEK',axis=1,inplace=True)\n"
   ]
  },
  {
   "cell_type": "code",
   "execution_count": 29,
   "metadata": {},
   "outputs": [
    {
     "name": "stdout",
     "output_type": "stream",
     "text": [
      "  AIRLINE  FLIGHT_NUMBER ORIGIN_AIRPORT DESTINATION_AIRPORT  \\\n",
      "0      AS             98            ANC                 SEA   \n",
      "1      AA           2336            LAX                 PBI   \n",
      "2      US            840            SFO                 CLT   \n",
      "3      AA            258            LAX                 MIA   \n",
      "4      AS            135            SEA                 ANC   \n",
      "\n",
      "   SCHEDULED_DEPARTURE  DEPARTURE_TIME  DEPARTURE_DELAY  TAXI_OUT  WHEELS_OFF  \\\n",
      "0                    5          2354.0            -11.0      21.0        15.0   \n",
      "1                   10             2.0             -8.0      12.0        14.0   \n",
      "2                   20            18.0             -2.0      16.0        34.0   \n",
      "3                   20            15.0             -5.0      15.0        30.0   \n",
      "4                   25            24.0             -1.0      11.0        35.0   \n",
      "\n",
      "   SCHEDULED_TIME  ...  ARRIVAL_TIME  ARRIVAL_DELAY  DIVERTED  CANCELLED  \\\n",
      "0           205.0  ...         408.0          -22.0         0          0   \n",
      "1           280.0  ...         741.0           -9.0         0          0   \n",
      "2           286.0  ...         811.0            5.0         0          0   \n",
      "3           285.0  ...         756.0           -9.0         0          0   \n",
      "4           235.0  ...         259.0          -21.0         0          0   \n",
      "\n",
      "   CANCELLATION_REASON  AIR_SYSTEM_DELAY  SECURITY_DELAY  AIRLINE_DELAY  \\\n",
      "0                  NaN               NaN             NaN            NaN   \n",
      "1                  NaN               NaN             NaN            NaN   \n",
      "2                  NaN               NaN             NaN            NaN   \n",
      "3                  NaN               NaN             NaN            NaN   \n",
      "4                  NaN               NaN             NaN            NaN   \n",
      "\n",
      "   LATE_AIRCRAFT_DELAY  WEATHER_DELAY  \n",
      "0                  NaN            NaN  \n",
      "1                  NaN            NaN  \n",
      "2                  NaN            NaN  \n",
      "3                  NaN            NaN  \n",
      "4                  NaN            NaN  \n",
      "\n",
      "[5 rows x 26 columns]\n"
     ]
    }
   ],
   "source": [
    "print(df_flights.head())"
   ]
  },
  {
   "cell_type": "code",
   "execution_count": null,
   "metadata": {},
   "outputs": [],
   "source": []
  },
  {
   "cell_type": "code",
   "execution_count": 30,
   "metadata": {},
   "outputs": [],
   "source": [
    "# dropping scheduled departures and departure time and departure_delay\n",
    "df_flights.drop('SCHEDULED_DEPARTURE',axis=1,inplace=True)\n",
    "df_flights.drop('DEPARTURE_TIME',axis=1,inplace=True)\n",
    "df_flights.drop('DEPARTURE_DELAY',axis=1,inplace=True)\n"
   ]
  },
  {
   "cell_type": "code",
   "execution_count": 31,
   "metadata": {},
   "outputs": [
    {
     "name": "stdout",
     "output_type": "stream",
     "text": [
      "  AIRLINE  FLIGHT_NUMBER ORIGIN_AIRPORT DESTINATION_AIRPORT  TAXI_OUT  \\\n",
      "0      AS             98            ANC                 SEA      21.0   \n",
      "1      AA           2336            LAX                 PBI      12.0   \n",
      "2      US            840            SFO                 CLT      16.0   \n",
      "3      AA            258            LAX                 MIA      15.0   \n",
      "4      AS            135            SEA                 ANC      11.0   \n",
      "\n",
      "   WHEELS_OFF  SCHEDULED_TIME  ELAPSED_TIME  AIR_TIME  DISTANCE  ...  \\\n",
      "0        15.0           205.0         194.0     169.0      1448  ...   \n",
      "1        14.0           280.0         279.0     263.0      2330  ...   \n",
      "2        34.0           286.0         293.0     266.0      2296  ...   \n",
      "3        30.0           285.0         281.0     258.0      2342  ...   \n",
      "4        35.0           235.0         215.0     199.0      1448  ...   \n",
      "\n",
      "   ARRIVAL_TIME  ARRIVAL_DELAY  DIVERTED  CANCELLED  CANCELLATION_REASON  \\\n",
      "0         408.0          -22.0         0          0                  NaN   \n",
      "1         741.0           -9.0         0          0                  NaN   \n",
      "2         811.0            5.0         0          0                  NaN   \n",
      "3         756.0           -9.0         0          0                  NaN   \n",
      "4         259.0          -21.0         0          0                  NaN   \n",
      "\n",
      "   AIR_SYSTEM_DELAY  SECURITY_DELAY AIRLINE_DELAY  LATE_AIRCRAFT_DELAY  \\\n",
      "0               NaN             NaN           NaN                  NaN   \n",
      "1               NaN             NaN           NaN                  NaN   \n",
      "2               NaN             NaN           NaN                  NaN   \n",
      "3               NaN             NaN           NaN                  NaN   \n",
      "4               NaN             NaN           NaN                  NaN   \n",
      "\n",
      "   WEATHER_DELAY  \n",
      "0            NaN  \n",
      "1            NaN  \n",
      "2            NaN  \n",
      "3            NaN  \n",
      "4            NaN  \n",
      "\n",
      "[5 rows x 23 columns]\n"
     ]
    }
   ],
   "source": [
    "print(df_flights.head())"
   ]
  },
  {
   "cell_type": "code",
   "execution_count": 32,
   "metadata": {},
   "outputs": [],
   "source": [
    "# dropping the taxi out and wheels off and wheels on and taxi in \n",
    "df_flights.drop('TAXI_OUT',axis=1,inplace=True)\n",
    "df_flights.drop('WHEELS_OFF',axis=1,inplace=True)\n",
    "df_flights.drop('WHEELS_ON',axis=1,inplace=True)"
   ]
  },
  {
   "cell_type": "code",
   "execution_count": 33,
   "metadata": {},
   "outputs": [
    {
     "name": "stdout",
     "output_type": "stream",
     "text": [
      "  AIRLINE  FLIGHT_NUMBER ORIGIN_AIRPORT DESTINATION_AIRPORT  SCHEDULED_TIME  \\\n",
      "0      AS             98            ANC                 SEA           205.0   \n",
      "1      AA           2336            LAX                 PBI           280.0   \n",
      "2      US            840            SFO                 CLT           286.0   \n",
      "3      AA            258            LAX                 MIA           285.0   \n",
      "4      AS            135            SEA                 ANC           235.0   \n",
      "\n",
      "   ELAPSED_TIME  AIR_TIME  DISTANCE  TAXI_IN  SCHEDULED_ARRIVAL  ARRIVAL_TIME  \\\n",
      "0         194.0     169.0      1448      4.0                430         408.0   \n",
      "1         279.0     263.0      2330      4.0                750         741.0   \n",
      "2         293.0     266.0      2296     11.0                806         811.0   \n",
      "3         281.0     258.0      2342      8.0                805         756.0   \n",
      "4         215.0     199.0      1448      5.0                320         259.0   \n",
      "\n",
      "   ARRIVAL_DELAY  DIVERTED  CANCELLED CANCELLATION_REASON  AIR_SYSTEM_DELAY  \\\n",
      "0          -22.0         0          0                 NaN               NaN   \n",
      "1           -9.0         0          0                 NaN               NaN   \n",
      "2            5.0         0          0                 NaN               NaN   \n",
      "3           -9.0         0          0                 NaN               NaN   \n",
      "4          -21.0         0          0                 NaN               NaN   \n",
      "\n",
      "   SECURITY_DELAY  AIRLINE_DELAY  LATE_AIRCRAFT_DELAY  WEATHER_DELAY  \n",
      "0             NaN            NaN                  NaN            NaN  \n",
      "1             NaN            NaN                  NaN            NaN  \n",
      "2             NaN            NaN                  NaN            NaN  \n",
      "3             NaN            NaN                  NaN            NaN  \n",
      "4             NaN            NaN                  NaN            NaN  \n"
     ]
    }
   ],
   "source": [
    "print(df_flights.head())"
   ]
  },
  {
   "cell_type": "code",
   "execution_count": 34,
   "metadata": {},
   "outputs": [],
   "source": [
    "# dropping elasped_time,air_time,distance,taxi_in,scheduled_arrival,arrival_time,arrival_delay,diverted , cancelled , cancelation_reason,air_system_delay,security_delay,airline_delay,late_aircraft_delay,weather_delay\n",
    "df_flights.drop('ELAPSED_TIME',axis=1,inplace=True)\n",
    "df_flights.drop('AIR_TIME',axis=1,inplace=True)\n",
    "df_flights.drop('DISTANCE',axis=1,inplace=True)\n",
    "df_flights.drop('TAXI_IN',axis=1,inplace=True)\n",
    "df_flights.drop('SCHEDULED_ARRIVAL',axis=1,inplace=True)\n",
    "df_flights.drop('ARRIVAL_TIME',axis=1,inplace=True)\n",
    "df_flights.drop('ARRIVAL_DELAY',axis=1,inplace=True)\n",
    "df_flights.drop('DIVERTED',axis=1,inplace=True)\n",
    "df_flights.drop('CANCELLED',axis=1,inplace=True)\n",
    "df_flights.drop('CANCELLATION_REASON',axis=1,inplace=True)\n",
    "df_flights.drop('AIR_SYSTEM_DELAY',axis=1,inplace=True)\n",
    "df_flights.drop('SECURITY_DELAY',axis=1,inplace=True)\n",
    "df_flights.drop('AIRLINE_DELAY',axis=1,inplace=True)\n",
    "df_flights.drop('LATE_AIRCRAFT_DELAY',axis=1,inplace=True)\n",
    "df_flights.drop('WEATHER_DELAY',axis=1,inplace=True)\n"
   ]
  },
  {
   "cell_type": "code",
   "execution_count": 35,
   "metadata": {},
   "outputs": [
    {
     "name": "stdout",
     "output_type": "stream",
     "text": [
      "  AIRLINE  FLIGHT_NUMBER ORIGIN_AIRPORT DESTINATION_AIRPORT  SCHEDULED_TIME\n",
      "0      AS             98            ANC                 SEA           205.0\n",
      "1      AA           2336            LAX                 PBI           280.0\n",
      "2      US            840            SFO                 CLT           286.0\n",
      "3      AA            258            LAX                 MIA           285.0\n",
      "4      AS            135            SEA                 ANC           235.0\n"
     ]
    }
   ],
   "source": [
    "print(df_flights.head())"
   ]
  },
  {
   "cell_type": "code",
   "execution_count": 36,
   "metadata": {},
   "outputs": [],
   "source": [
    "# dropping scheduled time \n",
    "df_flights.drop('SCHEDULED_TIME',axis=1,inplace=True)\n"
   ]
  },
  {
   "cell_type": "code",
   "execution_count": 37,
   "metadata": {},
   "outputs": [
    {
     "name": "stdout",
     "output_type": "stream",
     "text": [
      "  AIRLINE  FLIGHT_NUMBER ORIGIN_AIRPORT DESTINATION_AIRPORT\n",
      "0      AS             98            ANC                 SEA\n",
      "1      AA           2336            LAX                 PBI\n",
      "2      US            840            SFO                 CLT\n",
      "3      AA            258            LAX                 MIA\n",
      "4      AS            135            SEA                 ANC\n"
     ]
    }
   ],
   "source": [
    "print(df_flights.head())"
   ]
  },
  {
   "cell_type": "code",
   "execution_count": 38,
   "metadata": {},
   "outputs": [],
   "source": [
    "# removing any null values from the airline column\n",
    "df_flights = df_flights.dropna(subset=['AIRLINE'])\n",
    "# removing any null values from the origin and destination columns\n",
    "df_flights = df_flights.dropna(subset=['ORIGIN_AIRPORT'])\n",
    "df_flights = df_flights.dropna(subset=['DESTINATION_AIRPORT'])\n"
   ]
  },
  {
   "cell_type": "code",
   "execution_count": 39,
   "metadata": {},
   "outputs": [],
   "source": [
    "# excessive data , removing some random rows \n",
    "df_flights = df_flights.sample(frac=0.2, random_state=1)"
   ]
  },
  {
   "cell_type": "code",
   "execution_count": 40,
   "metadata": {},
   "outputs": [
    {
     "name": "stdout",
     "output_type": "stream",
     "text": [
      "        AIRLINE  FLIGHT_NUMBER ORIGIN_AIRPORT DESTINATION_AIRPORT\n",
      "4605645      UA            356          11618               13930\n",
      "398028       MQ           3458            ORD                 MLI\n",
      "2978311      B6           1202            FLL                 JFK\n",
      "2602363      DL           2529            ATL                 CLE\n",
      "2478083      WN           2560            CLT                 BWI\n",
      "...         ...            ...            ...                 ...\n",
      "846186       WN           1872            SAN                 SMF\n",
      "3838440      UA           1416            EWR                 DEN\n",
      "1140933      UA            363            IAD                 ORD\n",
      "2584806      B6            656            MCO                 SYR\n",
      "4128323      WN            105            MDW                 SFO\n",
      "\n",
      "[1163816 rows x 4 columns]\n"
     ]
    }
   ],
   "source": [
    "print(df_flights)"
   ]
  },
  {
   "cell_type": "code",
   "execution_count": 41,
   "metadata": {},
   "outputs": [
    {
     "name": "stdout",
     "output_type": "stream",
     "text": [
      "        AIRLINE  FLIGHT_NUMBER ORIGIN_AIRPORT DESTINATION_AIRPORT  \\\n",
      "4605645      UA            356          11618               13930   \n",
      "398028       MQ           3458            ORD                 MLI   \n",
      "2978311      B6           1202            FLL                 JFK   \n",
      "2602363      DL           2529            ATL                 CLE   \n",
      "2478083      WN           2560            CLT                 BWI   \n",
      "\n",
      "        DEPARTURE_TIME ARRIVAL_TIME  \n",
      "4605645       18:32:42     11:17:30  \n",
      "398028        14:05:34     02:02:38  \n",
      "2978311       04:49:11     06:10:26  \n",
      "2602363       19:02:00     05:14:10  \n",
      "2478083       21:06:34     09:26:10  \n"
     ]
    }
   ],
   "source": [
    "# generating the departure time vector of length equal to the number of rows in the dataframe\n",
    "hours=np.random.randint(0,24,len(df_flights))\n",
    "# generating the arrival_time vector of length equal to number of rows in the dataframe\n",
    "arrival_hours=np.random.randint(0,24,len(df_flights))\n",
    "\n",
    "\n",
    "# generating the departure minutes vector of length equal to the number of rows in the dataframe\n",
    "minutes=np.random.randint(0,60,len(df_flights))\n",
    "# generating the arrival minutes vector of length equal to the number of rows in the dataframe\n",
    "arrival_minutes=np.random.randint(0,60,len(df_flights))\n",
    "# generating the arrival seconds vector of length equal to the number of rows in the dataframe\n",
    "arrival_seconds=np.random.randint(0,60,len(df_flights))\n",
    "\n",
    "\n",
    "# generating the departure seconds vector of length equal to the number of rows in the dataframe\n",
    "seconds=np.random.randint(0,60,len(df_flights))\n",
    "\n",
    "\n",
    "\n",
    "departure_times = [f\"{h:02}:{m:02}:{s:02}\" for h, m, s in zip(hours, minutes, seconds)]\n",
    "arrival_times = [f\"{h:02}:{m:02}:{s:02}\" for h, m, s in zip(arrival_hours, arrival_minutes, arrival_seconds)]\n",
    "# assigning the formatted times to the dataframe\n",
    "df_flights['DEPARTURE_TIME'] = departure_times\n",
    "df_flights['ARRIVAL_TIME'] = arrival_times\n",
    "\n",
    "print(df_flights.head())\n",
    "\n",
    "\n",
    "\n",
    "\n",
    "\n",
    "\n"
   ]
  },
  {
   "cell_type": "code",
   "execution_count": 47,
   "metadata": {},
   "outputs": [],
   "source": [
    "# adding some random journey_start_date and journey_end_date\n",
    "\n",
    "# generating the month vector of length equal to the number of rows in the dataframe\n",
    "months=np.random.randint(1,13,len(df_flights))\n",
    "# generating the date vector of length equal to the number of rows in the dataframe\n",
    "dates=np.random.randint(1,31,len(df_flights))\n",
    "# generating the year vector of length equal to the number of rows in the dataframe \n",
    "years = np.random.randint(2023,2025,len(df_flights))\n",
    "\n",
    "# converting the month , date and year into a string \n",
    "journey_start_date = [f\"{y}-{m:02}-{d:02}\" for y, m, d in zip(years, months, dates)]\n",
    "journey_end_date = [f\"{y}-{m:02}-{d:02}\" for y, m, d in zip(years, months, dates)]\n",
    "\n",
    "# assigning the dates to the dataframe \n",
    "df_flights['JOURNEY_START_DATE'] = journey_start_date\n",
    "df_flights['JOURNEY_END_DATE'] = journey_end_date\n",
    "\n",
    "\n",
    "\n"
   ]
  },
  {
   "cell_type": "code",
   "execution_count": 49,
   "metadata": {},
   "outputs": [],
   "source": [
    "# adding a column called Available seats and adding some random numbers to it \n",
    "available_seats=np.random.randint(50,300,len(df_flights))\n",
    "df_flights['AVAILABLE_SEATS']=available_seats"
   ]
  },
  {
   "cell_type": "code",
   "execution_count": 50,
   "metadata": {},
   "outputs": [
    {
     "name": "stdout",
     "output_type": "stream",
     "text": [
      "        AIRLINE  FLIGHT_NUMBER ORIGIN_AIRPORT DESTINATION_AIRPORT  \\\n",
      "4605645      UA            356          11618               13930   \n",
      "398028       MQ           3458            ORD                 MLI   \n",
      "2978311      B6           1202            FLL                 JFK   \n",
      "2602363      DL           2529            ATL                 CLE   \n",
      "2478083      WN           2560            CLT                 BWI   \n",
      "\n",
      "        DEPARTURE_TIME ARRIVAL_TIME JOURNEY_START_DATE JOURNEY_END_DATE  \\\n",
      "4605645       18:32:42     11:17:30         2023-09-06       2023-09-06   \n",
      "398028        14:05:34     02:02:38         2023-02-04       2023-02-04   \n",
      "2978311       04:49:11     06:10:26         2023-08-03       2023-08-03   \n",
      "2602363       19:02:00     05:14:10         2023-12-10       2023-12-10   \n",
      "2478083       21:06:34     09:26:10         2023-10-10       2023-10-10   \n",
      "\n",
      "         AVAILABLE_SEATS  \n",
      "4605645              238  \n",
      "398028               286  \n",
      "2978311              297  \n",
      "2602363              104  \n",
      "2478083              138  \n"
     ]
    }
   ],
   "source": [
    "print(df_flights.head())"
   ]
  },
  {
   "cell_type": "code",
   "execution_count": 51,
   "metadata": {},
   "outputs": [],
   "source": [
    "# converting this dataframe into a csv file\n",
    "df_flights.to_csv('Flights_Data_Cleaned.csv',index=False)"
   ]
  },
  {
   "cell_type": "code",
   "execution_count": 53,
   "metadata": {},
   "outputs": [],
   "source": [
    "# create a dataframe called economy class \n",
    "df_economy=pd.DataFrame(columns=['Class_ID','Flight_number','Class_type','Fare_cost','Meal_option'])\n",
    "\n",
    "# insert data into Fare cost , some random values \n",
    "fare_cost=np.random.randint(100,500,len(df_flights))\n",
    "df_economy['Fare_cost']=fare_cost\n"
   ]
  },
  {
   "cell_type": "code",
   "execution_count": 55,
   "metadata": {},
   "outputs": [
    {
     "name": "stdout",
     "output_type": "stream",
     "text": [
      "  Class_ID Flight_number Class_type  Fare_cost Meal_option\n",
      "0      NaN           NaN        NaN        491         NaN\n",
      "1      NaN           NaN        NaN        123         NaN\n",
      "2      NaN           NaN        NaN        295         NaN\n",
      "3      NaN           NaN        NaN        460         NaN\n",
      "4      NaN           NaN        NaN        314         NaN\n",
      "(1163816, 5)\n"
     ]
    }
   ],
   "source": [
    "print(df_economy.head())\n",
    "print(df_economy.shape)"
   ]
  },
  {
   "cell_type": "code",
   "execution_count": 56,
   "metadata": {},
   "outputs": [],
   "source": [
    "# insert data into Meal_option , some random values \n",
    "meal_option = np.random.choice(['Vegetarian','Non-Vegetarian','Vegan'],len(df_flights))\n",
    "df_economy['Meal_option'] = meal_option"
   ]
  },
  {
   "cell_type": "code",
   "execution_count": 57,
   "metadata": {},
   "outputs": [
    {
     "name": "stdout",
     "output_type": "stream",
     "text": [
      "  Class_ID Flight_number Class_type  Fare_cost     Meal_option\n",
      "0      NaN           NaN        NaN        491      Vegetarian\n",
      "1      NaN           NaN        NaN        123  Non-Vegetarian\n",
      "2      NaN           NaN        NaN        295      Vegetarian\n",
      "3      NaN           NaN        NaN        460      Vegetarian\n",
      "4      NaN           NaN        NaN        314  Non-Vegetarian\n"
     ]
    }
   ],
   "source": [
    "print(df_economy.head())"
   ]
  },
  {
   "cell_type": "code",
   "execution_count": 67,
   "metadata": {},
   "outputs": [],
   "source": [
    "# processing csv files [airlines_cleaned_data.csv]\n",
    "import csv\n"
   ]
  },
  {
   "cell_type": "code",
   "execution_count": null,
   "metadata": {},
   "outputs": [],
   "source": [
    "# reading the csv file\n",
    "file = open('Airlines_Data_Cleaned.csv')"
   ]
  }
 ],
 "metadata": {
  "kernelspec": {
   "display_name": "Python 3",
   "language": "python",
   "name": "python3"
  },
  "language_info": {
   "codemirror_mode": {
    "name": "ipython",
    "version": 3
   },
   "file_extension": ".py",
   "mimetype": "text/x-python",
   "name": "python",
   "nbconvert_exporter": "python",
   "pygments_lexer": "ipython3",
   "version": "3.11.4"
  }
 },
 "nbformat": 4,
 "nbformat_minor": 2
}
